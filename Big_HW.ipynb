{
 "cells": [
  {
   "cell_type": "markdown",
   "metadata": {},
   "source": [
    "# Information Management\n",
    "## Fall 2020\n",
    "\n",
    "### Big HomeWork"
   ]
  },
  {
   "cell_type": "markdown",
   "metadata": {},
   "source": [
    "Enter your full name here"
   ]
  },
  {
   "cell_type": "markdown",
   "metadata": {},
   "source": [
    "Enter your group number here"
   ]
  },
  {
   "cell_type": "markdown",
   "metadata": {},
   "source": [
    "<img style=\"float: left; height: 5.5em;\" alt = \"Book\" src=\"https://m.media-amazon.com/images/I/51c1VrgvhVL.jpg\">\n",
    "Here, you are invited to resolve 10 Data Analysis Tasks (each of 1 point).<br>\n",
    "Please, find out helpful material, placed in the book Vanderplas, J. T. (2016). Python Data Science Handbook : Essential Tools for Working with Data; and the <a href=\"https://github.com/jakevdp/PythonDataScienceHandbook\" target=\"_blank\" rel=\"noopener noreferrer\">notebooks for each chapter</a>. <b>Criteria</b>: full answer or answer with minor mistake (that does not contradict to the task and does not affect the correctness of your results and conslusions) deserves one point, otherwise - zero points."
   ]
  },
  {
   "cell_type": "markdown",
   "metadata": {},
   "source": [
    "## Temperature Data Analysis\n",
    "Use [this dataset](https://raw.githubusercontent.com/ternikov/hse/gh-pages/hw5/temp_data.csv) with historical temperatures (in Celsius) for given city.\n",
    "\n",
    "**Useful links**: [10 minutes to pandas](https://pandas.pydata.org/pandas-docs/stable/user_guide/10min.html), [pandas Q&A](https://nbviewer.jupyter.org/github/justmarkham/pandas-videos/blob/master/pandas.ipynb), [matplotlib documentation](https://matplotlib.org/users/index.html), [matplotlib examples](https://matplotlib.org/examples/), [seaborn documentation](https://seaborn.pydata.org/#).\n",
    "\n",
    "---\n",
    "\n",
    "**Task 1**. Find out average temperatures by combinations of years and seasons (Winter, Spring, Summer, Autumn).\n",
    "\n",
    "**Task 2**. Reproduce the chart (pay attention on all details) that is given below.\n",
    "\n",
    "\n",
    "<img alt = \"chart\" src=\"https://raw.githubusercontent.com/ternikov/hse/gh-pages/hw5/plot.png\">"
   ]
  },
  {
   "cell_type": "code",
   "execution_count": null,
   "metadata": {},
   "outputs": [],
   "source": []
  },
  {
   "cell_type": "markdown",
   "metadata": {},
   "source": [
    "## Linear Regression Analysis\n",
    "Use `train.csv` dataset from [Sberbank Russian Housing Market](https://www.kaggle.com/c/sberbank-russian-housing-market/data) competition (you need to register on Kaggle in order to have an access to its datasets).\n",
    "\n",
    "**Useful links**: [scikit-learn documentation](https://scikit-learn.org/stable/supervised_learning.html#supervised-learning), [in depth: linear regression](https://github.com/jakevdp/PythonDataScienceHandbook/blob/master/notebooks/05.06-Linear-Regression.ipynb).\n",
    "\n",
    "---\n",
    "**Task 3**. Using `train.csv` dataset, split it in two parts at random (use supporting code below) for `train_sample` (80% of observations) and `test_sample` (20% of observations). Perform two linear regression models for `price_doc` prediction for `train_sample` (use both numeric and categorical independent variables in your models).\n",
    "```python\n",
    "import pandas as pd\n",
    "import zipfile\n",
    "\n",
    "zf = zipfile.ZipFile('train.csv.zip') \n",
    "df = pd.read_csv(zf.open('train.csv'))\n",
    "\n",
    "from sklearn.model_selection import train_test_split\n",
    "train_sample, test_sample = train_test_split(df, test_size=0.2)\n",
    "```\n",
    "\n",
    "**Task 4**. Justify your choice and models' quality with supporting tests, charts and comments briefly.\n",
    "\n",
    "**Task 5**. Assess the quality of your models on `test_sample` dataset. Use RMSE metric. Briefly describe whether or not this quality is appropriate."
   ]
  },
  {
   "cell_type": "code",
   "execution_count": null,
   "metadata": {},
   "outputs": [],
   "source": []
  },
  {
   "cell_type": "markdown",
   "metadata": {},
   "source": [
    "## K-Nearest Neighbors Analysis\n",
    "Use any financial ticker (except S&P500) to create the trading strategy, using KNN classifier.\n",
    "\n",
    "**Hint**. Use [this material](https://blog.quantinsti.com/machine-learning-k-nearest-neighbors-knn-algorithm-python/) to start your own calculations. [This link](https://pypi.org/project/fix-yahoo-finance/0.1.30/) with library fixes might be helpful.\n",
    "\n",
    "**Useful link**: [scikit-learn documentation](https://scikit-learn.org/stable/supervised_learning.html#supervised-learning).\n",
    "\n",
    "---\n",
    "**Task 6**. Upload data for one ticker (for the recent year) from Yahoo Finance. Make brief exploratory analysis of obtained data.\n",
    "\n",
    "**Task 7**. Apply KNN classifier to obtained data. Assess the quality of the model. Create and briefly justify the trading strategy."
   ]
  },
  {
   "cell_type": "code",
   "execution_count": null,
   "metadata": {},
   "outputs": [],
   "source": []
  },
  {
   "cell_type": "markdown",
   "metadata": {},
   "source": [
    "## Decision Trees Analysis\n",
    "**Hint**. Use [this material](https://blog.quantinsti.com/decision-tree/) to start your own calculations.\n",
    "\n",
    "**Useful link**: [decision trees and random forests](https://github.com/jakevdp/PythonDataScienceHandbook/blob/8a34a4f653bdbdc01415a94dc20d4e9b97438965/notebooks/05.08-Random-Forests.ipynb).\n",
    "\n",
    "---\n",
    "**Task 8**. Upload data for one ticker (for the recent year) from Quandl. Make brief exploratory analysis of obtained data.\n",
    "\n",
    "**Task 9**. Apply Decision Tree to obtained data. Assess the quality of the model. Create and briefly justify the trading strategy."
   ]
  },
  {
   "cell_type": "code",
   "execution_count": null,
   "metadata": {},
   "outputs": [],
   "source": []
  },
  {
   "cell_type": "markdown",
   "metadata": {},
   "source": [
    "## Face Detection\n",
    "**Hint**. Use [this material](https://towardsdatascience.com/simple-face-detection-in-python-1fcda0ea648e) to start your own calculations.\n",
    "\n",
    "**Useful link**: [mainfold learning](https://github.com/jakevdp/PythonDataScienceHandbook/blob/8a34a4f653bdbdc01415a94dc20d4e9b97438965/notebooks/05.10-Manifold-Learning.ipynb).\n",
    "\n",
    "---\n",
    "\n",
    "**Task 10**. Provide the face detection for your photo with rectangular border around your face (use material and examples above).\n",
    "\n",
    "*In accordance with HSE bylaws, your photo (image) will be only processed and stored in purposes of this HomeWork assessment and will not be distributed to third-parties.*"
   ]
  },
  {
   "cell_type": "code",
   "execution_count": null,
   "metadata": {},
   "outputs": [],
   "source": []
  }
 ],
 "metadata": {
  "kernelspec": {
   "display_name": "Python 3",
   "language": "python",
   "name": "python3"
  },
  "language_info": {
   "codemirror_mode": {
    "name": "ipython",
    "version": 3
   },
   "file_extension": ".py",
   "mimetype": "text/x-python",
   "name": "python",
   "nbconvert_exporter": "python",
   "pygments_lexer": "ipython3",
   "version": "3.7.1"
  }
 },
 "nbformat": 4,
 "nbformat_minor": 2
}
